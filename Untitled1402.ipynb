{
 "cells": [
  {
   "cell_type": "code",
   "execution_count": 4,
   "id": "c5cd4ff3-9635-4e27-a599-6b983dac073b",
   "metadata": {},
   "outputs": [
    {
     "name": "stdout",
     "output_type": "stream",
     "text": [
      "Collecting pyttsx3\n",
      "  Downloading pyttsx3-2.99-py3-none-any.whl.metadata (6.2 kB)\n",
      "Collecting comtypes (from pyttsx3)\n",
      "  Downloading comtypes-1.4.12-py3-none-any.whl.metadata (7.3 kB)\n",
      "Collecting pypiwin32 (from pyttsx3)\n",
      "  Downloading pypiwin32-223-py3-none-any.whl.metadata (236 bytes)\n",
      "Requirement already satisfied: pywin32 in c:\\users\\sagni\\appdata\\local\\programs\\python\\python311\\lib\\site-packages (from pyttsx3) (310)\n",
      "Downloading pyttsx3-2.99-py3-none-any.whl (32 kB)\n",
      "Downloading comtypes-1.4.12-py3-none-any.whl (253 kB)\n",
      "Downloading pypiwin32-223-py3-none-any.whl (1.7 kB)\n",
      "Installing collected packages: pypiwin32, comtypes, pyttsx3\n",
      "\n",
      "   ------------- -------------------------- 1/3 [comtypes]\n",
      "   ------------- -------------------------- 1/3 [comtypes]\n",
      "   -------------------------- ------------- 2/3 [pyttsx3]\n",
      "   ---------------------------------------- 3/3 [pyttsx3]\n",
      "\n",
      "Successfully installed comtypes-1.4.12 pypiwin32-223 pyttsx3-2.99\n"
     ]
    },
    {
     "name": "stderr",
     "output_type": "stream",
     "text": [
      "\n",
      "[notice] A new release of pip is available: 25.1.1 -> 25.2\n",
      "[notice] To update, run: python.exe -m pip install --upgrade pip\n"
     ]
    }
   ],
   "source": [
    "!pip install pyttsx3"
   ]
  },
  {
   "cell_type": "code",
   "execution_count": 10,
   "id": "ac4d00a8-c5ed-4266-9aaa-f00596e5ccca",
   "metadata": {},
   "outputs": [],
   "source": [
    "import pyttsx3\n",
    "import re\n",
    "import os\n",
    "\n",
    "# US -> UK spelling map\n",
    "US_TO_UK = {\n",
    "    \"color\": \"colour\", \"colors\": \"colours\",\n",
    "    \"honor\": \"honour\", \"honors\": \"honours\",\n",
    "    \"neighbor\": \"neighbour\", \"neighbors\": \"neighbours\",\n",
    "    \"organize\": \"organise\", \"organizes\": \"organises\", \"organizing\": \"organising\",\n",
    "    \"center\": \"centre\", \"theater\": \"theatre\",\n",
    "    \"liter\": \"litre\", \"meter\": \"metre\",\n",
    "    \"analyze\": \"analyse\", \"analyzing\": \"analysing\",\n",
    "    \"apologize\": \"apologise\", \"customize\": \"customise\",\n",
    "    \"recognize\": \"recognise\", \"realize\": \"realise\",\n",
    "    \"traveler\": \"traveller\", \"traveling\": \"travelling\",\n",
    "    \"behavior\": \"behaviour\", \"flavor\": \"flavour\",\n",
    "}\n",
    "\n",
    "def britishize_spelling(text: str) -> str:\n",
    "    \"\"\"Convert common US spellings to UK spellings.\"\"\"\n",
    "    def repl(match):\n",
    "        word = match.group(0)\n",
    "        lower = word.lower()\n",
    "        uk = US_TO_UK.get(lower, word)\n",
    "        if word.istitle(): return uk.capitalize()\n",
    "        if word.isupper(): return uk.upper()\n",
    "        return uk\n",
    "    pattern = r\"\\b(\" + \"|\".join(map(re.escape, US_TO_UK.keys())) + r\")\\b\"\n",
    "    return re.sub(pattern, repl, text, flags=re.IGNORECASE)\n",
    "\n",
    "def find_british_voice(engine):\n",
    "    \"\"\"Find a British English voice (en-GB) if available.\"\"\"\n",
    "    voices = engine.getProperty(\"voices\")\n",
    "    for v in voices:\n",
    "        meta = f\"{v.id} | {v.name} | {getattr(v,'languages','')}\".lower()\n",
    "        if \"en-gb\" in meta or \"united kingdom\" in meta or \"uk\" in meta or \"british\" in meta:\n",
    "            return v.id\n",
    "    return None\n",
    "\n",
    "def speak_british(text: str, save_path: str = None, rate: int = None, volume: float = None, britishize: bool = True):\n",
    "    \"\"\"Speak text in British accent (offline, Windows SAPI5).\"\"\"\n",
    "    if britishize:\n",
    "        text = britishize_spelling(text)\n",
    "\n",
    "    engine = pyttsx3.init(driverName=\"sapi5\")\n",
    "    voice_id = find_british_voice(engine)\n",
    "    if voice_id:\n",
    "        engine.setProperty(\"voice\", voice_id)\n",
    "    else:\n",
    "        print(\"[WARN] No explicit British voice found, using default English voice.\")\n",
    "\n",
    "    if rate: engine.setProperty(\"rate\", int(rate))\n",
    "    if volume: engine.setProperty(\"volume\", max(0.0, min(1.0, float(volume))))\n",
    "\n",
    "    if save_path:\n",
    "        os.makedirs(os.path.dirname(save_path), exist_ok=True)\n",
    "        engine.save_to_file(text, save_path)\n",
    "        engine.runAndWait()\n",
    "        print(f\"💾 Saved to: {save_path}\")\n",
    "    else:\n",
    "        engine.say(text)\n",
    "        engine.runAndWait()\n"
   ]
  },
  {
   "cell_type": "code",
   "execution_count": null,
   "id": "71d88ae7-f334-4ae1-a7be-bcc1b600e09c",
   "metadata": {},
   "outputs": [],
   "source": []
  }
 ],
 "metadata": {
  "kernelspec": {
   "display_name": "Python 3.11 (moviepy)",
   "language": "python",
   "name": "py311"
  },
  "language_info": {
   "codemirror_mode": {
    "name": "ipython",
    "version": 3
   },
   "file_extension": ".py",
   "mimetype": "text/x-python",
   "name": "python",
   "nbconvert_exporter": "python",
   "pygments_lexer": "ipython3",
   "version": "3.11.9"
  }
 },
 "nbformat": 4,
 "nbformat_minor": 5
}
